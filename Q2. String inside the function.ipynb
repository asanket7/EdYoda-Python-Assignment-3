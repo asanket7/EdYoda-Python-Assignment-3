{
 "cells": [
  {
   "cell_type": "code",
   "execution_count": null,
   "id": "fb6501d2",
   "metadata": {},
   "outputs": [],
   "source": [
    "Write a Python program to reverse a string.\n",
    "\n",
    "\n",
    "﻿Sample String : \"1234abcd\"\n",
    "\n",
    "Expected Output : \"dcba4321\""
   ]
  },
  {
   "cell_type": "code",
   "execution_count": 8,
   "id": "01279718",
   "metadata": {},
   "outputs": [
    {
     "name": "stdout",
     "output_type": "stream",
     "text": [
      "\"dcba4321\"\n"
     ]
    }
   ],
   "source": [
    "\n",
    "def string_reverse(str1):\n",
    "    rstr1=''\n",
    "    index=len(str1)\n",
    "    while index>0:\n",
    "        rstr1+=str1[index-1]\n",
    "        index=index-1\n",
    "    return rstr1\n",
    "print(string_reverse('\"1234abcd\"'))"
   ]
  },
  {
   "cell_type": "code",
   "execution_count": null,
   "id": "b03e7a64",
   "metadata": {},
   "outputs": [],
   "source": []
  }
 ],
 "metadata": {
  "kernelspec": {
   "display_name": "Python 3 (ipykernel)",
   "language": "python",
   "name": "python3"
  },
  "language_info": {
   "codemirror_mode": {
    "name": "ipython",
    "version": 3
   },
   "file_extension": ".py",
   "mimetype": "text/x-python",
   "name": "python",
   "nbconvert_exporter": "python",
   "pygments_lexer": "ipython3",
   "version": "3.10.1"
  }
 },
 "nbformat": 4,
 "nbformat_minor": 5
}
